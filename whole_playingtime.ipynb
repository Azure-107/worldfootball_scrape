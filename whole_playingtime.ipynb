{
  "nbformat": 4,
  "nbformat_minor": 0,
  "metadata": {
    "colab": {
      "name": "whole_playingtime.ipynb",
      "provenance": [],
      "collapsed_sections": [],
      "authorship_tag": "ABX9TyOx2V9J4YBxvpilW9VGJnJz",
      "include_colab_link": true
    },
    "kernelspec": {
      "name": "python3",
      "display_name": "Python 3"
    },
    "language_info": {
      "name": "python"
    }
  },
  "cells": [
    {
      "cell_type": "markdown",
      "metadata": {
        "id": "view-in-github",
        "colab_type": "text"
      },
      "source": [
        "<a href=\"https://colab.research.google.com/github/Azure-107/worldfootball_scrape/blob/main/whole_playingtime.ipynb\" target=\"_parent\"><img src=\"https://colab.research.google.com/assets/colab-badge.svg\" alt=\"Open In Colab\"/></a>"
      ]
    },
    {
      "cell_type": "code",
      "metadata": {
        "id": "VuX3hm0bAPod"
      },
      "source": [
        "import requests\n",
        "from bs4 import BeautifulSoup\n",
        "import pandas as pd\n",
        "import numpy as np\n",
        "import re\n",
        "import sys, getopt\n",
        "import pandas as pd \n",
        "import time"
      ],
      "execution_count": 52,
      "outputs": []
    },
    {
      "cell_type": "code",
      "metadata": {
        "id": "PcDsHV438VxJ"
      },
      "source": [
        "eng_name = ['arsenal-fc', 'aston-villa', 'brighton-hove-albion', 'burnley-fc', 'chelsea-fc', 'crystal-palace', 'everton-fc', 'fulham-fc', 'leeds-united', 'leicester-city', 'liverpool-fc', 'manchester-city', 'manchester-united', 'newcastle-united', 'sheffield-united', 'southampton-fc', 'tottenham-hotspur', 'west-bromwich-albion', 'west-ham-united', 'wolverhampton-wanderers']\n",
        "chn_name = ['阿森纳', '阿斯顿维拉', '布莱顿', '伯恩利', '切尔西', '水晶宫', '埃弗顿', '富勒姆', '利兹联', '莱斯特城', '利物浦', '曼城', '曼联', '纽卡斯尔联', '谢菲尔德联', '南安普敦', '热刺', '西布朗', '西汉姆联', '狼队']\n",
        "com_name = ['/eng-premier-league-', '/eng-fa-cup-', '/eng-league-cup-', '/europa-league-', '/champions-league-']"
      ],
      "execution_count": 53,
      "outputs": []
    },
    {
      "cell_type": "code",
      "metadata": {
        "id": "enW8tZLpAUZ2"
      },
      "source": [
        "def get_tables(url):\n",
        "    #res = requests.get(url)\n",
        "    res = ''\n",
        "    while res == '':\n",
        "      try:\n",
        "        res = requests.get(url)\n",
        "        break\n",
        "      except:\n",
        "        print(\"Connection refused by the server..\")\n",
        "        print(\"Sleep for 5 seconds\")\n",
        "        time.sleep(5)\n",
        "        print(\"Was a nice sleep, now let me continue...\")\n",
        "        continue\n",
        "    soup = BeautifulSoup(res.text, 'html.parser')\n",
        "    table = soup.select('table.standard_tabelle')\n",
        "    return table"
      ],
      "execution_count": 54,
      "outputs": []
    },
    {
      "cell_type": "code",
      "metadata": {
        "id": "g_C7HK94N44-"
      },
      "source": [
        "def get_time(tables, ind, dic):\n",
        "    time = []\n",
        "    \n",
        "    for player in tables[0].findAll('tr'):\n",
        "        count = 0\n",
        "        # process each record in row at a time\n",
        "        for t in player.findAll('td'):\n",
        "            if count == 0:\n",
        "              name = t.text\n",
        "            if count == 1:\n",
        "              time = t.text.rstrip(\"'\")\n",
        "              if name in dic:\n",
        "                if time.isdigit():\n",
        "                  dic[name].append(int(time))\n",
        "                else:\n",
        "                  dic[name].append(0)\n",
        "              else:\n",
        "                if time.isdigit():\n",
        "                  dic[name] = [int(time)]\n",
        "                else:\n",
        "                  dic[name] = [0]\n",
        "            count += 1\n",
        "\n",
        "    #df = pd.DataFrame.from_dict(dic, orient='index', columns = ['Time', 'Squad_eng', 'Squad'])\n",
        "    return dic"
      ],
      "execution_count": 55,
      "outputs": []
    },
    {
      "cell_type": "code",
      "metadata": {
        "id": "pcX5qjznA4WF",
        "colab": {
          "base_uri": "https://localhost:8080/"
        },
        "outputId": "62307428-eeb6-451f-9e9a-1a142fa329fe"
      },
      "source": [
        "for i in range(20):\n",
        "  dic = dict()\n",
        "  sumdic = dict()\n",
        "  for j in range(5):\n",
        "    url = 'https://www.worldfootball.net/team_performance/'+eng_name[i]+com_name[j]+'2020-2021'\n",
        "    table = get_tables(url)\n",
        "    dic = get_time(table, i, dic)\n",
        "  val = list(dic.values())\n",
        "  key = list(dic.keys())\n",
        "  for k in range(len(val)):\n",
        "    for j in range(len(val[k])):\n",
        "      sum = 0\n",
        "      sum = sum + val[k][j]\n",
        "    #dic[key[k]].append(tot)\n",
        "    sumdic[key[k]] = [eng_name[i], chn_name[i], sum]\n",
        "  df_new = pd.DataFrame.from_dict(sumdic, orient='index', columns = ['Squad_eng', 'Squad', 'Time'])\n",
        "  if i == 0:\n",
        "    df = df_new\n",
        "  else:\n",
        "    df = pd.concat([df, df_new])\n",
        "df.to_excel('complete_playingtime.xlsx')\n",
        "print('done')"
      ],
      "execution_count": 58,
      "outputs": [
        {
          "output_type": "stream",
          "text": [
            "Connection refused by the server..\n",
            "Sleep for 5 seconds\n",
            "Was a nice sleep, now let me continue...\n",
            "done\n"
          ],
          "name": "stdout"
        }
      ]
    }
  ]
}